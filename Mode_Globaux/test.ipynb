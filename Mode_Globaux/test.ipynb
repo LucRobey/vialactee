{
 "cells": [
  {
   "cell_type": "code",
   "execution_count": 9,
   "metadata": {},
   "outputs": [
    {
     "ename": "ModuleNotFoundError",
     "evalue": "No module named 'Mode_Globaux'",
     "output_type": "error",
     "traceback": [
      "\u001b[1;31m---------------------------------------------------------------------------\u001b[0m",
      "\u001b[1;31mModuleNotFoundError\u001b[0m                       Traceback (most recent call last)",
      "Cell \u001b[1;32mIn[9], line 1\u001b[0m\n\u001b[1;32m----> 1\u001b[0m \u001b[38;5;28;01mfrom\u001b[39;00m \u001b[38;5;21;01mMatrix\u001b[39;00m \u001b[38;5;28;01mimport\u001b[39;00m Matrix\n\u001b[0;32m      2\u001b[0m \u001b[38;5;28;01mfrom\u001b[39;00m \u001b[38;5;21;01mMatrix_data\u001b[39;00m \u001b[38;5;28;01mimport\u001b[39;00m Matrix_data\n\u001b[0;32m      3\u001b[0m \u001b[38;5;28;01mfrom\u001b[39;00m \u001b[38;5;21;01mMatrix_General\u001b[39;00m \u001b[38;5;28;01mimport\u001b[39;00m Matrix_General\n",
      "File \u001b[1;32mc:\\Users\\camil\\OneDrive\\Bureau\\VIALACTE-DOSSIER\\vialactee\\Mode_Globaux\\Matrix.py:1\u001b[0m\n\u001b[1;32m----> 1\u001b[0m \u001b[38;5;28;01mfrom\u001b[39;00m \u001b[38;5;21;01mMode_Globaux\u001b[39;00m  \u001b[38;5;28;01mimport\u001b[39;00m Matrix_data \u001b[38;5;28;01mas\u001b[39;00m Matrix_data\n\u001b[0;32m      2\u001b[0m \u001b[38;5;28;01mclass\u001b[39;00m \u001b[38;5;21;01mMatrix\u001b[39;00m:\n\u001b[0;32m      4\u001b[0m     \u001b[38;5;28;01mdef\u001b[39;00m \u001b[38;5;21m__init__\u001b[39m(\u001b[38;5;28mself\u001b[39m):        \n",
      "\u001b[1;31mModuleNotFoundError\u001b[0m: No module named 'Mode_Globaux'"
     ]
    }
   ],
   "source": [
    "\n",
    "from Matrix import Matrix\n",
    "from Matrix_data import Matrix_data\n",
    "from Matrix_General import Matrix_General\n",
    "from Segments_Locations import Segments_Locations\n",
    "from Mode_Global import Mode_Global\n",
    "from Mode_Tchou_Tchou import Mode_Tchou_Tchou\n",
    "\n",
    "matrix_data = Matrix_data()\n",
    "matrix = Matrix(matrix_data)\n",
    "mode = Mode_Tchou_Tchou(matrix)\n",
    "matrix_general = Matrix_General(mode)"
   ]
  },
  {
   "cell_type": "code",
   "execution_count": 4,
   "metadata": {},
   "outputs": [
    {
     "name": "stdout",
     "output_type": "stream",
     "text": [
      "[[0 0 0 ... 1 0 0]\n",
      " [0 0 0 ... 0 0 0]\n",
      " [0 0 0 ... 0 0 0]\n",
      " ...\n",
      " [0 0 0 ... 0 0 0]\n",
      " [0 0 0 ... 0 0 0]\n",
      " [0 0 0 ... 0 0 0]]\n"
     ]
    }
   ],
   "source": [
    "import numpy as np\n",
    "\n",
    "class Segments_Locations:\n",
    "    def __init__(self):\n",
    "        self.len_h00 = 205\n",
    "        self.len_h10 = 87\n",
    "        self.len_h11 = 86\n",
    "        self.len_h20 = 91\n",
    "        self.len_h30 = 47\n",
    "        self.len_h31 = 48\n",
    "        self.len_h32 = 48\n",
    "\n",
    "        self.len_v1 = 173\n",
    "        self.len_v2 = 173\n",
    "        self.len_v3 = 173\n",
    "        self.len_v4 = 173\n",
    "\n",
    "        self.coord_y_h31 = self.len_v1 * 2 // 5 + 16\n",
    "        self.coord_y_h32 = self.len_v1 * 9 // 10 + 16\n",
    "\n",
    "        self.offset_h30_v4 = 16\n",
    "\n",
    "        self.segment_h00 = [[i, self.offset_h30_v4] for i in range(self.len_h00)]\n",
    "        self.segment_h10 = [[i + self.len_h00, self.len_v1 // 3 + self.offset_h30_v4] for i in range(self.len_h10)]\n",
    "        self.segment_h11 = [[i + self.len_h00, self.len_v1 + self.offset_h30_v4] for i in range(self.len_h11)]\n",
    "        self.segment_h20 = [[i + self.len_h10 + self.len_h00, self.offset_h30_v4] for i in range(self.len_h20)]\n",
    "        self.segment_h30 = [[i + self.len_h00 + self.len_h10 + self.len_h20, 0] for i in range(self.len_h30)]\n",
    "        self.segment_h31 = [[i + self.len_h00 + self.len_h10 + self.len_h20, self.coord_y_h31] for i in range(self.len_h31)]\n",
    "        self.segment_h32 = [[i + self.len_h00 + self.len_h10 + self.len_h20, self.coord_y_h32] for i in range(self.len_h32)]\n",
    "\n",
    "        self.segment_v1 = [[self.len_h00, i + self.offset_h30_v4] for i in range(self.len_v1)]\n",
    "        self.segment_v2 = [[self.len_h00 + self.len_h10, i + self.offset_h30_v4 + self.len_v1 // 3] for i in range(self.len_v2)]\n",
    "        self.segment_v3 = [[self.len_h00 + self.len_h10 + self.len_h20, i + self.offset_h30_v4] for i in range(self.len_v3)]\n",
    "        self.segment_v4 = [[self.len_h00 + self.len_h10 + self.len_h20 + self.len_h31, i + self.offset_h30_v4 * 2] for i in range(self.len_v4)]\n",
    "\n",
    "        self.segment_coords = [\n",
    "            self.segment_h00,\n",
    "            self.segment_h10,\n",
    "            self.segment_h11,\n",
    "            self.segment_h20,\n",
    "            self.segment_h30,\n",
    "            self.segment_h31,\n",
    "            self.segment_h32,\n",
    "            self.segment_v1,\n",
    "            self.segment_v2,\n",
    "            self.segment_v3,\n",
    "            self.segment_v4\n",
    "        ]\n",
    "\n",
    "    def generate_matrix(self):\n",
    "        # Flatten the segment coordinates and find the bounding box\n",
    "        all_coords = [coord for segment in self.segment_coords for coord in segment]\n",
    "        max_x = max(coord[0] for coord in all_coords)\n",
    "        max_y = max(coord[1] for coord in all_coords)\n",
    "\n",
    "        # Create a zero matrix with the appropriate size\n",
    "        matrix = np.zeros((max_y + 1, max_x + 1), dtype=int)\n",
    "\n",
    "        # Populate the matrix with 1s for each segment coordinate\n",
    "        for x, y in all_coords:\n",
    "            matrix[y][x] = 1\n",
    "\n",
    "        return matrix\n",
    "\n",
    "\n",
    "# Instantiate the class and generate the matrix\n",
    "segments = Segments_Locations()\n",
    "matrix = segments.generate_matrix()\n",
    "\n",
    "# Optionally, print the matrix\n",
    "print(matrix)"
   ]
  },
  {
   "cell_type": "code",
   "execution_count": 5,
   "metadata": {},
   "outputs": [
    {
     "data": {
      "image/png": "[encoded data removed]",
      "text/plain": [
       "<Figure size 1000x1000 with 1 Axes>"
      ]
     },
     "metadata": {},
     "output_type": "display_data"
    }
   ],
   "source": [
    "import matplotlib.pyplot as plt\n",
    "\n",
    "# Visualize the matrix\n",
    "plt.figure(figsize=(10, 10))\n",
    "plt.imshow(matrix, cmap='Greys', origin='upper')\n",
    "plt.title(\"Segment Matrix Visualization\")\n",
    "plt.show()\n"
   ]
  }
 ],
 "metadata": {
  "kernelspec": {
   "display_name": "Python 3",
   "language": "python",
   "name": "python3"
  },
  "language_info": {
   "codemirror_mode": {
    "name": "ipython",
    "version": 3
   },
   "file_extension": ".py",
   "mimetype": "text/x-python",
   "name": "python",
   "nbconvert_exporter": "python",
   "pygments_lexer": "ipython3",
   "version": "3.11.3"
  }
 },
 "nbformat": 4,
 "nbformat_minor": 2
}
